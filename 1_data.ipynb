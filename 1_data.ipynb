{
 "cells": [
  {
   "cell_type": "code",
   "execution_count": 2,
   "metadata": {},
   "outputs": [],
   "source": [
    "import requests\n",
    "import os\n",
    "import zipfile"
   ]
  },
  {
   "cell_type": "markdown",
   "metadata": {},
   "source": [
    "# Function to gather multiple kaggle datasets"
   ]
  },
  {
   "cell_type": "code",
   "execution_count": 3,
   "metadata": {},
   "outputs": [],
   "source": [
    "def get_kaggle_data(user, dataset, folder='./raw_data'):\n",
    "    \"\"\" Download and unzip a dataset from Kaggle.\n",
    "\n",
    "    Args:\n",
    "        user (str): The Kaggle username of the dataset owner.\n",
    "        dataset (str): The name of the dataset.\n",
    "        folder (str): The folder where the dataset will be saved\n",
    "    Returns:\n",
    "        (None)\n",
    "    \"\"\"\n",
    "\n",
    "    base_url = \"https://www.kaggle.com/api/v1/datasets/download/\"\n",
    "    url = f'{base_url}{user}/{dataset}'\n",
    "    zip_file_path = f'{folder}/{dataset}.zip'\n",
    "    unzip_dir = f'{folder}/{dataset}/'\n",
    "    \n",
    "    response = requests.get(url, allow_redirects=True)\n",
    "    with open(zip_file_path, 'wb') as file:\n",
    "        file.write(response.content)\n",
    "\n",
    "    # Unzip the file\n",
    "    with zipfile.ZipFile(zip_file_path, 'r') as zip_ref:\n",
    "        zip_ref.extractall(unzip_dir)\n",
    "    os.remove(zip_file_path)"
   ]
  },
  {
   "cell_type": "markdown",
   "metadata": {},
   "source": [
    "# Get relevant data"
   ]
  },
  {
   "cell_type": "code",
   "execution_count": null,
   "metadata": {},
   "outputs": [],
   "source": [
    "get_kaggle_data(\"ma7555\", \"cat-breeds-dataset\")"
   ]
  }
 ],
 "metadata": {
  "kernelspec": {
   "display_name": "project3",
   "language": "python",
   "name": "python3"
  },
  "language_info": {
   "codemirror_mode": {
    "name": "ipython",
    "version": 3
   },
   "file_extension": ".py",
   "mimetype": "text/x-python",
   "name": "python",
   "nbconvert_exporter": "python",
   "pygments_lexer": "ipython3",
   "version": "3.11.11"
  }
 },
 "nbformat": 4,
 "nbformat_minor": 2
}
