{
 "cells": [
  {
   "cell_type": "markdown",
   "metadata": {},
   "source": [
    "# Libraries"
   ]
  },
  {
   "cell_type": "code",
   "execution_count": 6,
   "metadata": {},
   "outputs": [],
   "source": [
    "import requests\n",
    "import os\n",
    "import zipfile\n",
    "\n",
    "import pandas as pd"
   ]
  },
  {
   "cell_type": "markdown",
   "metadata": {},
   "source": [
    "# Function to gather multiple kaggle datasets"
   ]
  },
  {
   "cell_type": "code",
   "execution_count": 3,
   "metadata": {},
   "outputs": [],
   "source": [
    "def get_kaggle_data(user, dataset, folder='./raw_data'):\n",
    "    \"\"\" Download and unzip a dataset from Kaggle.\n",
    "\n",
    "    Args:\n",
    "        user (str): The Kaggle username of the dataset owner.\n",
    "        dataset (str): The name of the dataset.\n",
    "        folder (str): The folder where the dataset will be saved\n",
    "    Returns:\n",
    "        (None)\n",
    "    \"\"\"\n",
    "\n",
    "    base_url = \"https://www.kaggle.com/api/v1/datasets/download/\"\n",
    "    url = f'{base_url}{user}/{dataset}'\n",
    "    zip_file_path = f'{folder}/{dataset}.zip'\n",
    "    unzip_dir = f'{folder}/{dataset}/'\n",
    "    \n",
    "    response = requests.get(url, allow_redirects=True)\n",
    "    with open(zip_file_path, 'wb') as file:\n",
    "        file.write(response.content)\n",
    "\n",
    "    # Unzip the file\n",
    "    with zipfile.ZipFile(zip_file_path, 'r') as zip_ref:\n",
    "        zip_ref.extractall(unzip_dir)\n",
    "    os.remove(zip_file_path)"
   ]
  },
  {
   "cell_type": "markdown",
   "metadata": {},
   "source": [
    "# Get relevant data"
   ]
  },
  {
   "cell_type": "code",
   "execution_count": null,
   "metadata": {},
   "outputs": [],
   "source": [
    "get_kaggle_data(\"ma7555\", \"cat-breeds-dataset\")"
   ]
  },
  {
   "cell_type": "markdown",
   "metadata": {},
   "source": [
    "# Explore the data"
   ]
  },
  {
   "cell_type": "code",
   "execution_count": 10,
   "metadata": {},
   "outputs": [
    {
     "data": {
      "text/html": [
       "<div>\n",
       "<style scoped>\n",
       "    .dataframe tbody tr th:only-of-type {\n",
       "        vertical-align: middle;\n",
       "    }\n",
       "\n",
       "    .dataframe tbody tr th {\n",
       "        vertical-align: top;\n",
       "    }\n",
       "\n",
       "    .dataframe thead th {\n",
       "        text-align: right;\n",
       "    }\n",
       "</style>\n",
       "<table border=\"1\" class=\"dataframe\">\n",
       "  <thead>\n",
       "    <tr style=\"text-align: right;\">\n",
       "      <th></th>\n",
       "      <th>Unnamed: 0</th>\n",
       "      <th>id</th>\n",
       "      <th>url</th>\n",
       "      <th>type</th>\n",
       "      <th>age</th>\n",
       "      <th>gender</th>\n",
       "      <th>size</th>\n",
       "      <th>coat</th>\n",
       "      <th>breed</th>\n",
       "      <th>photos</th>\n",
       "      <th>med_photos</th>\n",
       "    </tr>\n",
       "  </thead>\n",
       "  <tbody>\n",
       "    <tr>\n",
       "      <th>0</th>\n",
       "      <td>0</td>\n",
       "      <td>46744842</td>\n",
       "      <td>https://www.petfinder.com/cat/arianna-46744842...</td>\n",
       "      <td>Cat</td>\n",
       "      <td>Adult</td>\n",
       "      <td>Female</td>\n",
       "      <td>Medium</td>\n",
       "      <td>NaN</td>\n",
       "      <td>Abyssinian</td>\n",
       "      <td>[{'small': 'https://dl5zpyw5k3jeb.cloudfront.n...</td>\n",
       "      <td>['https://dl5zpyw5k3jeb.cloudfront.net/photos/...</td>\n",
       "    </tr>\n",
       "    <tr>\n",
       "      <th>1</th>\n",
       "      <td>1</td>\n",
       "      <td>46717321</td>\n",
       "      <td>https://www.petfinder.com/cat/ozzy-46717321/oh...</td>\n",
       "      <td>Cat</td>\n",
       "      <td>Adult</td>\n",
       "      <td>Male</td>\n",
       "      <td>Extra Large</td>\n",
       "      <td>NaN</td>\n",
       "      <td>Abyssinian</td>\n",
       "      <td>[{'small': 'https://dl5zpyw5k3jeb.cloudfront.n...</td>\n",
       "      <td>['https://dl5zpyw5k3jeb.cloudfront.net/photos/...</td>\n",
       "    </tr>\n",
       "    <tr>\n",
       "      <th>2</th>\n",
       "      <td>2</td>\n",
       "      <td>46626338</td>\n",
       "      <td>https://www.petfinder.com/cat/zena-46626338/ca...</td>\n",
       "      <td>Cat</td>\n",
       "      <td>Senior</td>\n",
       "      <td>Female</td>\n",
       "      <td>Medium</td>\n",
       "      <td>NaN</td>\n",
       "      <td>Abyssinian</td>\n",
       "      <td>[{'small': 'https://dl5zpyw5k3jeb.cloudfront.n...</td>\n",
       "      <td>['https://dl5zpyw5k3jeb.cloudfront.net/photos/...</td>\n",
       "    </tr>\n",
       "    <tr>\n",
       "      <th>3</th>\n",
       "      <td>3</td>\n",
       "      <td>46620170</td>\n",
       "      <td>https://www.petfinder.com/cat/mika-46620170/ca...</td>\n",
       "      <td>Cat</td>\n",
       "      <td>Baby</td>\n",
       "      <td>Female</td>\n",
       "      <td>Small</td>\n",
       "      <td>Short</td>\n",
       "      <td>Abyssinian</td>\n",
       "      <td>[{'small': 'https://dl5zpyw5k3jeb.cloudfront.n...</td>\n",
       "      <td>['https://dl5zpyw5k3jeb.cloudfront.net/photos/...</td>\n",
       "    </tr>\n",
       "    <tr>\n",
       "      <th>4</th>\n",
       "      <td>4</td>\n",
       "      <td>46582751</td>\n",
       "      <td>https://www.petfinder.com/cat/ruby-46582751/fl...</td>\n",
       "      <td>Cat</td>\n",
       "      <td>Young</td>\n",
       "      <td>Female</td>\n",
       "      <td>Medium</td>\n",
       "      <td>NaN</td>\n",
       "      <td>Abyssinian</td>\n",
       "      <td>[{'small': 'https://dl5zpyw5k3jeb.cloudfront.n...</td>\n",
       "      <td>['https://dl5zpyw5k3jeb.cloudfront.net/photos/...</td>\n",
       "    </tr>\n",
       "  </tbody>\n",
       "</table>\n",
       "</div>"
      ],
      "text/plain": [
       "   Unnamed: 0        id                                                url  \\\n",
       "0           0  46744842  https://www.petfinder.com/cat/arianna-46744842...   \n",
       "1           1  46717321  https://www.petfinder.com/cat/ozzy-46717321/oh...   \n",
       "2           2  46626338  https://www.petfinder.com/cat/zena-46626338/ca...   \n",
       "3           3  46620170  https://www.petfinder.com/cat/mika-46620170/ca...   \n",
       "4           4  46582751  https://www.petfinder.com/cat/ruby-46582751/fl...   \n",
       "\n",
       "  type     age  gender         size   coat       breed  \\\n",
       "0  Cat   Adult  Female       Medium    NaN  Abyssinian   \n",
       "1  Cat   Adult    Male  Extra Large    NaN  Abyssinian   \n",
       "2  Cat  Senior  Female       Medium    NaN  Abyssinian   \n",
       "3  Cat    Baby  Female        Small  Short  Abyssinian   \n",
       "4  Cat   Young  Female       Medium    NaN  Abyssinian   \n",
       "\n",
       "                                              photos  \\\n",
       "0  [{'small': 'https://dl5zpyw5k3jeb.cloudfront.n...   \n",
       "1  [{'small': 'https://dl5zpyw5k3jeb.cloudfront.n...   \n",
       "2  [{'small': 'https://dl5zpyw5k3jeb.cloudfront.n...   \n",
       "3  [{'small': 'https://dl5zpyw5k3jeb.cloudfront.n...   \n",
       "4  [{'small': 'https://dl5zpyw5k3jeb.cloudfront.n...   \n",
       "\n",
       "                                          med_photos  \n",
       "0  ['https://dl5zpyw5k3jeb.cloudfront.net/photos/...  \n",
       "1  ['https://dl5zpyw5k3jeb.cloudfront.net/photos/...  \n",
       "2  ['https://dl5zpyw5k3jeb.cloudfront.net/photos/...  \n",
       "3  ['https://dl5zpyw5k3jeb.cloudfront.net/photos/...  \n",
       "4  ['https://dl5zpyw5k3jeb.cloudfront.net/photos/...  "
      ]
     },
     "execution_count": 10,
     "metadata": {},
     "output_type": "execute_result"
    }
   ],
   "source": [
    "CAT_CSV = \"./raw_data/cat-breeds-dataset/data/cats.csv\"\n",
    "\n",
    "df = pd.read_csv(CAT_CSV)\n",
    "df.head()"
   ]
  },
  {
   "cell_type": "code",
   "execution_count": 9,
   "metadata": {},
   "outputs": [
    {
     "name": "stdout",
     "output_type": "stream",
     "text": [
      "<class 'pandas.core.frame.DataFrame'>\n",
      "RangeIndex: 67145 entries, 0 to 67144\n",
      "Data columns (total 11 columns):\n",
      " #   Column      Non-Null Count  Dtype \n",
      "---  ------      --------------  ----- \n",
      " 0   Unnamed: 0  67145 non-null  int64 \n",
      " 1   id          67145 non-null  int64 \n",
      " 2   url         67145 non-null  object\n",
      " 3   type        67145 non-null  object\n",
      " 4   age         67145 non-null  object\n",
      " 5   gender      67145 non-null  object\n",
      " 6   size        67145 non-null  object\n",
      " 7   coat        42012 non-null  object\n",
      " 8   breed       67145 non-null  object\n",
      " 9   photos      67145 non-null  object\n",
      " 10  med_photos  67145 non-null  object\n",
      "dtypes: int64(2), object(9)\n",
      "memory usage: 5.6+ MB\n"
     ]
    }
   ],
   "source": [
    "df.info()"
   ]
  },
  {
   "cell_type": "code",
   "execution_count": null,
   "metadata": {},
   "outputs": [
    {
     "data": {
      "text/plain": [
       "breed\n",
       "Domestic Short Hair                      4049\n",
       "Persian                                  3999\n",
       "Domestic Long Hair                       3967\n",
       "American Shorthair                       3964\n",
       "Domestic Medium Hair                     3819\n",
       "Calico                                   3389\n",
       "Dilute Calico                            3212\n",
       "Dilute Tortoiseshell                     3144\n",
       "Siamese                                  2695\n",
       "Ragdoll                                  2656\n",
       "Torbie                                   2525\n",
       "Tuxedo                                   2240\n",
       "Manx                                     2048\n",
       "Bengal                                   2044\n",
       "Tabby                                    1989\n",
       "Russian Blue                             1842\n",
       "Tortoiseshell                            1625\n",
       "Bombay                                   1618\n",
       "Snowshoe                                 1609\n",
       "Tiger                                    1590\n",
       "Maine Coon                               1397\n",
       "Himalayan                                1285\n",
       "Extra-Toes Cat - Hemingway Polydactyl    1181\n",
       "American Bobtail                          985\n",
       "Turkish Van                               804\n",
       "Turkish Angora                            738\n",
       "Norwegian Forest Cat                      578\n",
       "British Shorthair                         563\n",
       "Oriental Short Hair                       486\n",
       "Exotic Shorthair                          465\n",
       "Scottish Fold                             379\n",
       "Burmese                                   338\n",
       "Egyptian Mau                              298\n",
       "Tonkinese                                 258\n",
       "Abyssinian                                253\n",
       "Balinese                                  253\n",
       "Birman                                    225\n",
       "Sphynx - Hairless Cat                     209\n",
       "Siberian                                  187\n",
       "Munchkin                                  181\n",
       "Cornish Rex                               171\n",
       "Havana                                    171\n",
       "American Curl                             156\n",
       "Nebelung                                  150\n",
       "Applehead Siamese                         142\n",
       "Japanese Bobtail                          134\n",
       "Ragamuffin                                133\n",
       "Ocicat                                    121\n",
       "Devon Rex                                 119\n",
       "Pixiebob                                  111\n",
       "Oriental Tabby                            103\n",
       "Silver                                     94\n",
       "Chartreux                                  86\n",
       "Selkirk Rex                                76\n",
       "Korat                                      70\n",
       "Oriental Long Hair                         39\n",
       "Somali                                     36\n",
       "Javanese                                   27\n",
       "Chausie                                    23\n",
       "American Wirehair                          23\n",
       "Singapura                                  22\n",
       "LaPerm                                     18\n",
       "Cymric                                     17\n",
       "Burmilla                                    8\n",
       "Canadian Hairless                           4\n",
       "Chinchilla                                  3\n",
       "York Chocolate                              1\n",
       "Name: count, dtype: int64"
      ]
     },
     "execution_count": 16,
     "metadata": {},
     "output_type": "execute_result"
    }
   ],
   "source": [
    "pd.set_option('display.max_rows', None)\n",
    "df[\"breed\"].value_counts()"
   ]
  },
  {
   "cell_type": "markdown",
   "metadata": {},
   "source": [
    "# Postprocess the data"
   ]
  },
  {
   "cell_type": "code",
   "execution_count": null,
   "metadata": {},
   "outputs": [],
   "source": []
  },
  {
   "cell_type": "markdown",
   "metadata": {},
   "source": [
    "# Save the data"
   ]
  },
  {
   "cell_type": "code",
   "execution_count": null,
   "metadata": {},
   "outputs": [],
   "source": []
  }
 ],
 "metadata": {
  "kernelspec": {
   "display_name": "project3",
   "language": "python",
   "name": "python3"
  },
  "language_info": {
   "codemirror_mode": {
    "name": "ipython",
    "version": 3
   },
   "file_extension": ".py",
   "mimetype": "text/x-python",
   "name": "python",
   "nbconvert_exporter": "python",
   "pygments_lexer": "ipython3",
   "version": "3.11.11"
  }
 },
 "nbformat": 4,
 "nbformat_minor": 2
}
