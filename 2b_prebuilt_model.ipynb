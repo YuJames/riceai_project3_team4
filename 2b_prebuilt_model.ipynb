{
 "cells": [
  {
   "cell_type": "markdown",
   "metadata": {},
   "source": [
    "# Libraries"
   ]
  },
  {
   "cell_type": "code",
   "execution_count": 2,
   "metadata": {},
   "outputs": [
    {
     "name": "stdout",
     "output_type": "stream",
     "text": [
      "Collecting openai\n",
      "  Downloading openai-1.72.0-py3-none-any.whl.metadata (25 kB)\n",
      "Requirement already satisfied: anyio<5,>=3.5.0 in /opt/anaconda3/envs/dev/lib/python3.10/site-packages (from openai) (4.2.0)\n",
      "Collecting distro<2,>=1.7.0 (from openai)\n",
      "  Downloading distro-1.9.0-py3-none-any.whl.metadata (6.8 kB)\n",
      "Requirement already satisfied: httpx<1,>=0.23.0 in /opt/anaconda3/envs/dev/lib/python3.10/site-packages (from openai) (0.27.0)\n",
      "Collecting jiter<1,>=0.4.0 (from openai)\n",
      "  Downloading jiter-0.9.0-cp310-cp310-macosx_11_0_arm64.whl.metadata (5.2 kB)\n",
      "Requirement already satisfied: pydantic<3,>=1.9.0 in /opt/anaconda3/envs/dev/lib/python3.10/site-packages (from openai) (2.10.6)\n",
      "Requirement already satisfied: sniffio in /opt/anaconda3/envs/dev/lib/python3.10/site-packages (from openai) (1.3.0)\n",
      "Requirement already satisfied: tqdm>4 in /opt/anaconda3/envs/dev/lib/python3.10/site-packages (from openai) (4.66.5)\n",
      "Requirement already satisfied: typing-extensions<5,>=4.11 in /opt/anaconda3/envs/dev/lib/python3.10/site-packages (from openai) (4.12.2)\n",
      "Requirement already satisfied: idna>=2.8 in /opt/anaconda3/envs/dev/lib/python3.10/site-packages (from anyio<5,>=3.5.0->openai) (3.7)\n",
      "Requirement already satisfied: exceptiongroup>=1.0.2 in /opt/anaconda3/envs/dev/lib/python3.10/site-packages (from anyio<5,>=3.5.0->openai) (1.2.0)\n",
      "Requirement already satisfied: certifi in /opt/anaconda3/envs/dev/lib/python3.10/site-packages (from httpx<1,>=0.23.0->openai) (2024.8.30)\n",
      "Requirement already satisfied: httpcore==1.* in /opt/anaconda3/envs/dev/lib/python3.10/site-packages (from httpx<1,>=0.23.0->openai) (1.0.2)\n",
      "Requirement already satisfied: h11<0.15,>=0.13 in /opt/anaconda3/envs/dev/lib/python3.10/site-packages (from httpcore==1.*->httpx<1,>=0.23.0->openai) (0.14.0)\n",
      "Requirement already satisfied: annotated-types>=0.6.0 in /opt/anaconda3/envs/dev/lib/python3.10/site-packages (from pydantic<3,>=1.9.0->openai) (0.7.0)\n",
      "Requirement already satisfied: pydantic-core==2.27.2 in /opt/anaconda3/envs/dev/lib/python3.10/site-packages (from pydantic<3,>=1.9.0->openai) (2.27.2)\n",
      "Downloading openai-1.72.0-py3-none-any.whl (643 kB)\n",
      "\u001b[2K   \u001b[90m━━━━━━━━━━━━━━━━━━━━━━━━━━━━━━━━━━━━━━━━\u001b[0m \u001b[32m643.9/643.9 kB\u001b[0m \u001b[31m15.3 MB/s\u001b[0m eta \u001b[36m0:00:00\u001b[0m\n",
      "\u001b[?25hDownloading distro-1.9.0-py3-none-any.whl (20 kB)\n",
      "Downloading jiter-0.9.0-cp310-cp310-macosx_11_0_arm64.whl (321 kB)\n",
      "Installing collected packages: jiter, distro, openai\n",
      "Successfully installed distro-1.9.0 jiter-0.9.0 openai-1.72.0\n",
      "Note: you may need to restart the kernel to use updated packages.\n"
     ]
    }
   ],
   "source": [
    "pip install openai"
   ]
  },
  {
   "cell_type": "code",
   "execution_count": 3,
   "metadata": {},
   "outputs": [],
   "source": [
    "from collections import Counter\n",
    "import json\n",
    "import os\n",
    "\n",
    "import tensorflow as tf\n",
    "from tensorflow import keras\n",
    "from keras.models import Model\n",
    "from keras.applications.resnet50 import ResNet50, preprocess_input, decode_predictions\n",
    "from keras.layers import Input, GlobalAveragePooling2D, Dense\n",
    "from keras.preprocessing import image\n",
    "import numpy as np\n",
    "import pandas as pd\n",
    "\n",
    "import openai"
   ]
  },
  {
   "cell_type": "markdown",
   "metadata": {},
   "source": [
    "# Functions"
   ]
  },
  {
   "cell_type": "code",
   "execution_count": 4,
   "metadata": {},
   "outputs": [
    {
     "name": "stdout",
     "output_type": "stream",
     "text": [
      "Downloading data from https://storage.googleapis.com/tensorflow/keras-applications/resnet/resnet50_weights_tf_dim_ordering_tf_kernels.h5\n",
      "\u001b[1m102967424/102967424\u001b[0m \u001b[32m━━━━━━━━━━━━━━━━━━━━\u001b[0m\u001b[37m\u001b[0m \u001b[1m2s\u001b[0m 0us/step\n"
     ]
    }
   ],
   "source": [
    "# Load pre-trained ResNet50 model + higher level layers\n",
    "model = ResNet50(weights='imagenet')\n",
    "# input_shape = (224, 224, 3)\n",
    "# num_classes = 5\n",
    "# model = ResNet50(weights='imagenet', include_top=False, input_shape=input_shape)\n",
    "# x = model.output\n",
    "# x = GlobalAveragePooling2D()(x)\n",
    "# x = Dense(1024, activation='relu')(x)\n",
    "# predictions = Dense(num_classes, activation='softmax', name='custom_output')(x)\n",
    "# model = Model(inputs=model.input, outputs=predictions)\n",
    "# model.compile(optimizer='adam', loss='categorical_crossentropy', metrics=['accuracy'])\n",
    "\n",
    "def classify_cat_species(img_path):\n",
    "    img = image.load_img(img_path, target_size=(224, 224))\n",
    "    \n",
    "    # Convert image to array and preprocess\n",
    "    x = image.img_to_array(img)\n",
    "    x = np.expand_dims(x, axis=0)\n",
    "    x = preprocess_input(x)\n",
    "\n",
    "    # Run prediction for top 3 classes\n",
    "    preds = model.predict(x)\n",
    "    decoded = decode_predictions(preds, top=3)[0]\n",
    "\n",
    "    # Filter predictions to only those related to cats\n",
    "    cat_breeds = [label for label in decoded] # [label for label in decoded if 'cat' in label[1] or 'Egyptian' in label[1] or 'Persian' in label[1]]\n",
    "    \n",
    "    # print(\"Top predictions:\")\n",
    "    # for pred in cat_breeds:\n",
    "    #     print(f\"{pred[1]}: {round(pred[2]*100, 2)}%\")\n",
    "\n",
    "    return [cat_breeds[0][1], cat_breeds[0][2]]\n",
    "\n",
    "\n",
    "# client = openai.OpenAI()\n",
    "# def is_same_species(cat1, cat2):\n",
    "#     response = client.responses.create(\n",
    "#         model=\"gpt-4o-mini\",\n",
    "#         input=f\"Looking past syntax differences, are these two cat species the same? '{cat1}' and '{cat2}'. Respond with 'yes' or 'no'\"\n",
    "#     )\n",
    "#     return response.output_text\n",
    "# Load a pre-trained model (this requires downloading a model such as GoogleNews-vectors)\n",
    "# similarity = similarity_model.similarity(\"house\", \"home\")\n",
    "# print(\"Cosine similarity using Gensim:\", similarity)\n",
    "\n",
    "# print(is_same_species(\"Siamese cat\", \"Bengal cat\"))\n",
    "# print(is_same_species(\"egypt mau\", \"Egyptian_mau\"))"
   ]
  },
  {
   "cell_type": "markdown",
   "metadata": {},
   "source": [
    "# Analyze"
   ]
  },
  {
   "cell_type": "code",
   "execution_count": 6,
   "metadata": {},
   "outputs": [
    {
     "ename": "FileNotFoundError",
     "evalue": "[Errno 2] No such file or directory: './postprocessed_data/labeled_imgs'",
     "output_type": "error",
     "traceback": [
      "\u001b[0;31m---------------------------------------------------------------------------\u001b[0m",
      "\u001b[0;31mFileNotFoundError\u001b[0m                         Traceback (most recent call last)",
      "Cell \u001b[0;32mIn[6], line 5\u001b[0m\n\u001b[1;32m      3\u001b[0m IMG_PATH \u001b[38;5;241m=\u001b[39m \u001b[38;5;124m\"\u001b[39m\u001b[38;5;124m./postprocessed_data/labeled_imgs\u001b[39m\u001b[38;5;124m\"\u001b[39m\n\u001b[1;32m      4\u001b[0m samples \u001b[38;5;241m=\u001b[39m {}\n\u001b[0;32m----> 5\u001b[0m \u001b[38;5;28;01mfor\u001b[39;00m entry \u001b[38;5;129;01min\u001b[39;00m \u001b[43mos\u001b[49m\u001b[38;5;241;43m.\u001b[39;49m\u001b[43mlistdir\u001b[49m\u001b[43m(\u001b[49m\u001b[43mIMG_PATH\u001b[49m\u001b[43m)\u001b[49m:\n\u001b[1;32m      6\u001b[0m     formatted_entry \u001b[38;5;241m=\u001b[39m entry\u001b[38;5;241m.\u001b[39mreplace(\u001b[38;5;124m\"\u001b[39m\u001b[38;5;124m_\u001b[39m\u001b[38;5;124m\"\u001b[39m, \u001b[38;5;124m\"\u001b[39m\u001b[38;5;124m \u001b[39m\u001b[38;5;124m\"\u001b[39m)\n\u001b[1;32m      7\u001b[0m     samples[formatted_entry] \u001b[38;5;241m=\u001b[39m []\n",
      "\u001b[0;31mFileNotFoundError\u001b[0m: [Errno 2] No such file or directory: './postprocessed_data/labeled_imgs'"
     ]
    }
   ],
   "source": [
    "# get samples\n",
    "NUM_SAMPLES = 10\n",
    "IMG_PATH = \"./postprocessed_data/labeled_imgs\"\n",
    "samples = {}\n",
    "for entry in os.listdir(IMG_PATH):\n",
    "    formatted_entry = entry.replace(\"_\", \" \")\n",
    "    samples[formatted_entry] = []\n",
    "    species_path = os.path.join(IMG_PATH, entry)\n",
    "    if os.path.isdir(species_path):\n",
    "        file_list = os.listdir(species_path)\n",
    "        for file in file_list:\n",
    "            if file.endswith('.jpg') and len(samples[formatted_entry]) < NUM_SAMPLES:\n",
    "                samples[formatted_entry].append(os.path.join(species_path, file))\n",
    "\n",
    "# print(json.dumps(samples, indent=4))\n",
    "\n",
    "# test for accuracy\n",
    "SIMILARITY_EMBEDDINGS = \"raw_data/glove.6B.300d.txt\"\n",
    "WORD2VEC_OUTPUT_FILE = \"raw_data/glove.6B.300d.word2vec.txt\"\n",
    "# glove2word2vec(SIMILARITY_EMBEDDINGS, WORD2VEC_OUTPUT_FILE)\n",
    "# similarity_model = KeyedVectors.load_word2vec_format(WORD2VEC_OUTPUT_FILE, binary=False)\n",
    "all_results = []\n",
    "for species, img_list in samples.items():\n",
    "    print(f\"Species: {species}\")\n",
    "    results = [(classify_cat_species(x))[0] for x in img_list]\n",
    "    print(results)\n",
    "\n",
    "    all_results.extend(results)\n",
    "\n",
    "print(Counter(all_results).most_common())\n",
    "    # print([similarity_model.similarity(species, x) for x in results])\n",
    "# classify_cat_species(img_path)"
   ]
  }
 ],
 "metadata": {
  "kernelspec": {
   "display_name": "dev",
   "language": "python",
   "name": "python3"
  },
  "language_info": {
   "codemirror_mode": {
    "name": "ipython",
    "version": 3
   },
   "file_extension": ".py",
   "mimetype": "text/x-python",
   "name": "python",
   "nbconvert_exporter": "python",
   "pygments_lexer": "ipython3",
   "version": "3.10.15"
  }
 },
 "nbformat": 4,
 "nbformat_minor": 2
}
